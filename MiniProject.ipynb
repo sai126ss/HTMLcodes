{
 "cells": [
  {
   "cell_type": "code",
   "execution_count": 2,
   "id": "fe843431-a6a4-437a-a83f-137eb7610b63",
   "metadata": {},
   "outputs": [
    {
     "name": "stdout",
     "output_type": "stream",
     "text": [
      "\n",
      "To-Do List Manager\n",
      "1. Add Task\n",
      "2. Mark Task as Complete\n",
      "3. Show Tasks\n",
      "4. Clear All Tasks\n",
      "5. Show Only Pending Tasks\n",
      "6. Exit\n"
     ]
    },
    {
     "name": "stdin",
     "output_type": "stream",
     "text": [
      "Enter your choice:  6\n"
     ]
    }
   ],
   "source": [
    "tasks = []\n",
    "\n",
    "while True:\n",
    "    print(\"\\nTo-Do List Manager\")\n",
    "    print(\"1. Add Task\")\n",
    "    print(\"2. Mark Task as Complete\")\n",
    "    print(\"3. Show Tasks\")\n",
    "    print(\"4. Clear All Tasks\")\n",
    "    print(\"5. Show Only Pending Tasks\")\n",
    "    print(\"6. Exit\")\n",
    "\n",
    "    choice = input(\"Enter your choice: \")\n",
    "\n",
    "    if choice == \"1\":\n",
    "        task = input(\"Enter task: \")\n",
    "        tasks.append(task)\n",
    "    elif choice == \"2\":\n",
    "        task = input(\"Enter task to mark as complete: \")\n",
    "        if task in tasks:\n",
    "            tasks.remove(task)\n",
    "            print(f\"'{task}' marked as complete.\")\n",
    "        else:\n",
    "            print(\"Task not found.\")\n",
    "    elif choice == \"3\":\n",
    "        print(\"To-Do List:\", tasks)\n",
    "    elif choice == \"4\":\n",
    "        tasks.clear()\n",
    "        print(\"All tasks cleared.\")\n",
    "    elif choice == \"5\":\n",
    "        print(\"Pending Tasks:\", tasks)\n",
    "    elif choice == \"6\":\n",
    "        break\n",
    "    else:\n",
    "        print(\"Invalid choice. Try again.\")\n"
   ]
  },
  {
   "cell_type": "code",
   "execution_count": null,
   "id": "68dc44ab-3993-4ed2-bb51-610f09c633df",
   "metadata": {},
   "outputs": [],
   "source": []
  }
 ],
 "metadata": {
  "kernelspec": {
   "display_name": "Python 3 (ipykernel)",
   "language": "python",
   "name": "python3"
  },
  "language_info": {
   "codemirror_mode": {
    "name": "ipython",
    "version": 3
   },
   "file_extension": ".py",
   "mimetype": "text/x-python",
   "name": "python",
   "nbconvert_exporter": "python",
   "pygments_lexer": "ipython3",
   "version": "3.12.3"
  }
 },
 "nbformat": 4,
 "nbformat_minor": 5
}
